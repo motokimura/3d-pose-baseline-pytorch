{
 "cells": [
  {
   "cell_type": "code",
   "execution_count": 1,
   "metadata": {},
   "outputs": [],
   "source": [
    "import matplotlib.pyplot as plt\n",
    "from mpl_toolkits.mplot3d import Axes3D\n",
    "%matplotlib inline"
   ]
  },
  {
   "cell_type": "code",
   "execution_count": 2,
   "metadata": {},
   "outputs": [],
   "source": [
    "import sys\n",
    "sys.path.append(\"../human_3d_pose_baseline/\")\n",
    "from utils import camera_utils, data_utils, vis_utils"
   ]
  },
  {
   "cell_type": "markdown",
   "metadata": {},
   "source": [
    "## Load Human3.6M camera parameters"
   ]
  },
  {
   "cell_type": "code",
   "execution_count": 3,
   "metadata": {},
   "outputs": [],
   "source": [
    "cams = camera_utils.load_cameras(\"../dataset/h36m/cameras.h5\")"
   ]
  },
  {
   "cell_type": "markdown",
   "metadata": {},
   "source": [
    "## Load Human3.6M 3d poses"
   ]
  },
  {
   "cell_type": "code",
   "execution_count": 4,
   "metadata": {},
   "outputs": [],
   "source": [
    "actions = [\"Sitting\",]  # actions to load.\n",
    "camera_frame = False  # whether transform 3d poses into the camera frame from the original world frame or not.\n",
    "\n",
    "train_set, test_set, data_mean, data_std, dim_to_ignore, dim_to_use, train_root_positions, test_root_positions = \\\n",
    "    data_utils.read_3d_data(actions, \"../dataset/h36m/\", cams, camera_frame=camera_frame, predict_14=False)"
   ]
  },
  {
   "cell_type": "code",
   "execution_count": 5,
   "metadata": {
    "scrolled": false
   },
   "outputs": [
    {
     "data": {
      "text/plain": [
       "{(1,\n",
       "  'Sitting',\n",
       "  'Sitting 1.h5'): array([[-0.04467541, -0.85151713,  0.20741998, ..., -0.15090777,\n",
       "         -0.14984435, -0.94343514],\n",
       "        [-0.04697797, -0.83760562,  0.21784643, ..., -0.19492098,\n",
       "         -0.08145451, -0.98522693],\n",
       "        [-0.04920342, -0.82721392,  0.21596948, ..., -0.24358793,\n",
       "         -0.00638867, -1.02458465],\n",
       "        ...,\n",
       "        [ 0.11116181, -1.37522818,  0.44217934, ...,  0.35248767,\n",
       "         -0.21254123, -0.31766016],\n",
       "        [ 0.11511766, -1.37958726,  0.47266568, ...,  0.3837098 ,\n",
       "         -0.21527164, -0.28132391],\n",
       "        [ 0.11779442, -1.38535078,  0.48185335, ...,  0.40635311,\n",
       "         -0.21798923, -0.24971305]]),\n",
       " (1,\n",
       "  'Sitting',\n",
       "  'Sitting 2.h5'): array([[-0.09044989, -0.43156891,  0.52043872, ..., -0.88416183,\n",
       "          0.48567704, -1.07513702],\n",
       "        [-0.09195869, -0.41712087,  0.52212797, ..., -0.84682861,\n",
       "          0.47896406, -1.08274477],\n",
       "        [-0.09281077, -0.41056129,  0.52083288, ..., -0.80379937,\n",
       "          0.47226244, -1.09090866],\n",
       "        ...,\n",
       "        [ 0.02528841,  1.13492155,  0.81955866, ...,  1.50453304,\n",
       "          0.13471203, -0.21965517],\n",
       "        [ 0.02206539,  1.12699157,  0.80770103, ...,  1.50372458,\n",
       "          0.13703218, -0.21838012],\n",
       "        [ 0.01833381,  1.11880205,  0.79180328, ...,  1.50101561,\n",
       "          0.1377839 , -0.21570782]]),\n",
       " (5,\n",
       "  'Sitting',\n",
       "  'Sitting 1.h5'): array([[ 1.0356268 , -0.01381664,  0.45041446, ..., -2.9544334 ,\n",
       "          1.26155306,  1.0221923 ],\n",
       "        [ 1.03582379, -0.01643948,  0.45177055, ..., -2.9548875 ,\n",
       "          1.25604395,  1.02084882],\n",
       "        [ 1.03592876, -0.01789292,  0.45246033, ..., -2.95525825,\n",
       "          1.249197  ,  1.01862763],\n",
       "        ...,\n",
       "        [ 1.14963438, -0.88292184,  0.42133113, ...,  1.39083845,\n",
       "          0.19922533, -0.05327336],\n",
       "        [ 1.16121359, -0.92421722,  0.43741659, ...,  1.39121468,\n",
       "          0.19811686, -0.04923675],\n",
       "        [ 1.16999681, -0.9530153 ,  0.45342227, ...,  1.39162115,\n",
       "          0.19563401, -0.04557973]]),\n",
       " (5,\n",
       "  'Sitting',\n",
       "  'Sitting.h5'): array([[ 1.04258113, -0.02333128,  0.52139127, ..., -2.92261564,\n",
       "          1.39050681,  1.24358547],\n",
       "        [ 1.0430305 , -0.02999884,  0.52380784, ..., -2.92486707,\n",
       "          1.38667421,  1.24001264],\n",
       "        [ 1.04335967, -0.03387579,  0.52584903, ..., -2.92659568,\n",
       "          1.3826458 ,  1.23549873],\n",
       "        ...,\n",
       "        [ 1.08705741, -0.53713672,  0.4864988 , ...,  0.6232366 ,\n",
       "         -0.87143108, -1.2785658 ],\n",
       "        [ 1.08691745, -0.53589818,  0.48704311, ...,  0.62196993,\n",
       "         -0.87222297, -1.27784042],\n",
       "        [ 1.08682284, -0.53465902,  0.48807543, ...,  0.62141007,\n",
       "         -0.87307161, -1.2767746 ]]),\n",
       " (6,\n",
       "  'Sitting',\n",
       "  'Sitting 1.h5'): array([[-0.91870767, -0.22599749,  0.68775932, ..., -0.34472357,\n",
       "          0.53621975, -1.23257999],\n",
       "        [-0.91850874, -0.22921333,  0.68759039, ..., -0.34450682,\n",
       "          0.53618838, -1.23278499],\n",
       "        [-0.91854568, -0.23104217,  0.68597622, ..., -0.34448787,\n",
       "          0.53646512, -1.23312937],\n",
       "        ...,\n",
       "        [-0.91288826,  0.61249201,  0.59062253, ..., -0.07574155,\n",
       "         -0.98513943, -0.96907092],\n",
       "        [-0.91233295,  0.60532945,  0.60487795, ..., -0.06879377,\n",
       "         -0.99149762, -0.96598045],\n",
       "        [-0.91172321,  0.60319829,  0.61392015, ..., -0.06173825,\n",
       "         -0.99672907, -0.96304261]]),\n",
       " (6,\n",
       "  'Sitting',\n",
       "  'Sitting 2.h5'): array([[-0.9265319 ,  0.37129715,  0.6471703 , ..., -0.71413018,\n",
       "          0.74502098, -1.19887775],\n",
       "        [-0.9267075 ,  0.36974072,  0.64620367, ..., -0.70770596,\n",
       "          0.75200948, -1.19900081],\n",
       "        [-0.92666344,  0.37142838,  0.64570628, ..., -0.70341149,\n",
       "          0.75726693, -1.19965522],\n",
       "        ...,\n",
       "        [-0.91827094, -0.03948691,  0.77826109, ..., -1.19864285,\n",
       "         -0.15933545, -1.17986331],\n",
       "        [-0.91907572, -0.06540633,  0.76311881, ..., -1.19737523,\n",
       "         -0.16780372, -1.19706796],\n",
       "        [-0.92088485, -0.08632094,  0.73874663, ..., -1.19645068,\n",
       "         -0.17732306, -1.21275654]]),\n",
       " (7,\n",
       "  'Sitting',\n",
       "  'Sitting 1.h5'): array([[-0.36427808, -0.30258471, -0.96964743, ..., -0.43098184,\n",
       "          0.7461681 , -1.21048973],\n",
       "        [-0.36289142, -0.31650785, -0.97193261, ..., -0.43562777,\n",
       "          0.75048045, -1.21357822],\n",
       "        [-0.36281626, -0.29865128, -0.99420261, ..., -0.44475085,\n",
       "          0.75449575, -1.21601511],\n",
       "        ...,\n",
       "        [-0.38102391,  0.40330276, -0.83698938, ..., -0.56411821,\n",
       "          1.17324032, -1.17996102],\n",
       "        [-0.3797123 ,  0.41843184, -0.84270938, ..., -0.56708902,\n",
       "          1.15998895, -1.17857165],\n",
       "        [-0.37950005,  0.42003976, -0.84451126, ..., -0.5710685 ,\n",
       "          1.14644417, -1.17622064]]),\n",
       " (7,\n",
       "  'Sitting',\n",
       "  'Sitting.h5'): array([[-0.38411112,  0.21597161, -0.91792341, ..., -0.40433953,\n",
       "          0.84792873, -1.18554835],\n",
       "        [-0.38480574,  0.18292866, -0.91734625, ..., -0.40757732,\n",
       "          0.84353057, -1.18471005],\n",
       "        [-0.384531  ,  0.1764895 , -0.92304748, ..., -0.41129823,\n",
       "          0.8402727 , -1.18470217],\n",
       "        ...,\n",
       "        [-0.34823696,  0.70524358, -0.90302513, ..., -0.57736905,\n",
       "          1.15425035, -1.21823433],\n",
       "        [-0.35087873,  0.71213414, -0.84614889, ..., -0.55369931,\n",
       "          1.1404078 , -1.225623  ],\n",
       "        [-0.35097851,  0.70355344, -0.8628162 , ..., -0.53660017,\n",
       "          1.12084788, -1.22890438]]),\n",
       " (8,\n",
       "  'Sitting',\n",
       "  'Sitting 1.h5'): array([[-1.2754853 , -0.30469179,  0.33912547, ..., -3.23083478,\n",
       "          1.14605505,  1.11381868],\n",
       "        [-1.2753745 , -0.30595254,  0.33928032, ..., -3.23088034,\n",
       "          1.14608165,  1.11417574],\n",
       "        [-1.2762674 , -0.29307837,  0.34134027, ..., -3.23161522,\n",
       "          1.14410688,  1.11482396],\n",
       "        ...,\n",
       "        [-1.13984398,  0.09044577,  1.57267965, ..., -0.16157742,\n",
       "         -0.09936226, -0.44665594],\n",
       "        [-1.13858174,  0.12316232,  1.57940851, ..., -0.15642087,\n",
       "         -0.09108705, -0.43891894],\n",
       "        [-1.13616999,  0.16486861,  1.59059043, ..., -0.15170538,\n",
       "         -0.08280577, -0.4325088 ]]),\n",
       " (8,\n",
       "  'Sitting',\n",
       "  'Sitting.h5'): array([[-1.24196197, -0.64007629,  0.26175764, ..., -3.24031037,\n",
       "          1.06065778,  1.32432498],\n",
       "        [-1.24151876, -0.64336356,  0.26102563, ..., -3.24094612,\n",
       "          1.06131598,  1.32355229],\n",
       "        [-1.24103796, -0.64678787,  0.26057986, ..., -3.2415916 ,\n",
       "          1.06203496,  1.32280748],\n",
       "        ...,\n",
       "        [-1.22573877,  0.02738136,  1.02375191, ..., -0.2025314 ,\n",
       "         -0.02543551, -0.46872368],\n",
       "        [-1.22519966,  0.02554421,  1.02767943, ..., -0.19994684,\n",
       "         -0.02696136, -0.47858669],\n",
       "        [-1.22545884,  0.0208932 ,  1.02512209, ..., -0.19437323,\n",
       "         -0.02777976, -0.48594636]])}"
      ]
     },
     "execution_count": 5,
     "metadata": {},
     "output_type": "execute_result"
    }
   ],
   "source": [
    "train_set"
   ]
  },
  {
   "cell_type": "markdown",
   "metadata": {},
   "source": [
    "## Extract a seqence from the training sequences"
   ]
  },
  {
   "cell_type": "code",
   "execution_count": 6,
   "metadata": {},
   "outputs": [
    {
     "data": {
      "text/plain": [
       "(3304, 48)"
      ]
     },
     "execution_count": 6,
     "metadata": {},
     "output_type": "execute_result"
    }
   ],
   "source": [
    "seq_idx = 0\n",
    "pose_seq = list(train_set.values())[seq_idx]\n",
    "\n",
    "pose_seq.shape"
   ]
  },
  {
   "cell_type": "markdown",
   "metadata": {},
   "source": [
    "## Un-normalize poses"
   ]
  },
  {
   "cell_type": "code",
   "execution_count": 7,
   "metadata": {},
   "outputs": [
    {
     "data": {
      "text/plain": [
       "(3304, 96)"
      ]
     },
     "execution_count": 7,
     "metadata": {},
     "output_type": "execute_result"
    }
   ],
   "source": [
    "pose_seq = data_utils.unnormalize_data(pose_seq, data_mean, data_std, dim_to_ignore)\n",
    "\n",
    "pose_seq.shape"
   ]
  },
  {
   "cell_type": "markdown",
   "metadata": {},
   "source": [
    "## Plot a 3d pose in the sequence!"
   ]
  },
  {
   "cell_type": "code",
   "execution_count": 8,
   "metadata": {},
   "outputs": [
    {
     "data": {
      "image/png": "[encoded data removed]",
      "text/plain": [
       "<Figure size 432x432 with 1 Axes>"
      ]
     },
     "metadata": {},
     "output_type": "display_data"
    }
   ],
   "source": [
    "frame_idx = 10\n",
    "\n",
    "fig = plt.figure(figsize=(6, 6))\n",
    "ax = fig.add_subplot(111, projection='3d')\n",
    "vis_utils.show_3d_pose(pose_seq[frame_idx], ax)"
   ]
  },
  {
   "cell_type": "markdown",
   "metadata": {},
   "source": [
    "## Plot 3d pose sequence!"
   ]
  },
  {
   "cell_type": "code",
   "execution_count": 9,
   "metadata": {},
   "outputs": [
    {
     "data": {
      "image/png": "[encoded data removed]",
      "text/plain": [
       "<Figure size 864x432 with 8 Axes>"
      ]
     },
     "metadata": {},
     "output_type": "display_data"
    }
   ],
   "source": [
    "def plot(fig, subplot_xmax, subplot_ymax, subplot_idx, pose, frame_idx=None):\n",
    "    ax = fig.add_subplot(\n",
    "        f\"{subplot_ymax}{subplot_xmax}{subplot_idx}\",\n",
    "        projection='3d'\n",
    "    )\n",
    "    vis_utils.show_3d_pose(pose, ax)\n",
    "    if frame_idx is not None:\n",
    "        ax.set_title(f\"frame: {frame_idx}\")\n",
    "    \n",
    "\n",
    "fig = plt.figure(figsize=(12, 6))\n",
    "\n",
    "subplot_xmax, subplot_ymax = 4, 2\n",
    "frame_increment = 30\n",
    "\n",
    "subplot_idx = 0\n",
    "for x in range(subplot_xmax):\n",
    "    for y in range(subplot_ymax):\n",
    "        frame_idx = subplot_idx * frame_increment\n",
    "        plot(\n",
    "            fig,\n",
    "            subplot_xmax,\n",
    "            subplot_ymax,\n",
    "            subplot_idx + 1,\n",
    "            pose_seq[frame_idx],\n",
    "            frame_idx\n",
    "        )\n",
    "        subplot_idx += 1\n",
    "\n",
    "fig.tight_layout()"
   ]
  },
  {
   "cell_type": "code",
   "execution_count": null,
   "metadata": {},
   "outputs": [],
   "source": []
  }
 ],
 "metadata": {
  "kernelspec": {
   "display_name": "Python 3",
   "language": "python",
   "name": "python3"
  },
  "language_info": {
   "codemirror_mode": {
    "name": "ipython",
    "version": 3
   },
   "file_extension": ".py",
   "mimetype": "text/x-python",
   "name": "python",
   "nbconvert_exporter": "python",
   "pygments_lexer": "ipython3",
   "version": "3.7.7"
  }
 },
 "nbformat": 4,
 "nbformat_minor": 4
}
